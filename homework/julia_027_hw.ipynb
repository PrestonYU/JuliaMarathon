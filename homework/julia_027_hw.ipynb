{
 "cells": [
  {
   "cell_type": "markdown",
   "metadata": {},
   "source": [
    "# Julia 機器學習：GLM 線性迴歸\n",
    "\n",
    "## 作業 027：波士頓房價預測資料集\n",
    "\n",
    "請使用 GLM 中的模型，建立一個預測模型來預測波士頓的房價。"
   ]
  },
  {
   "cell_type": "code",
   "execution_count": 4,
   "metadata": {},
   "outputs": [],
   "source": [
    "using GLM, RDatasets, MLDataUtils"
   ]
  },
  {
   "cell_type": "markdown",
   "metadata": {},
   "source": [
    "## 讀取資料"
   ]
  },
  {
   "cell_type": "code",
   "execution_count": 5,
   "metadata": {},
   "outputs": [
    {
     "data": {
      "text/html": [
       "<table class=\"data-frame\"><thead><tr><th></th><th>Crim</th><th>Zn</th><th>Indus</th><th>Chas</th><th>NOx</th><th>Rm</th><th>Age</th><th>Dis</th><th>Rad</th><th>Tax</th></tr><tr><th></th><th>Float64</th><th>Float64</th><th>Float64</th><th>Int64</th><th>Float64</th><th>Float64</th><th>Float64</th><th>Float64</th><th>Int64</th><th>Int64</th></tr></thead><tbody><p>10 rows × 14 columns (omitted printing of 4 columns)</p><tr><th>1</th><td>0.00632</td><td>18.0</td><td>2.31</td><td>0</td><td>0.538</td><td>6.575</td><td>65.2</td><td>4.09</td><td>1</td><td>296</td></tr><tr><th>2</th><td>0.02731</td><td>0.0</td><td>7.07</td><td>0</td><td>0.469</td><td>6.421</td><td>78.9</td><td>4.9671</td><td>2</td><td>242</td></tr><tr><th>3</th><td>0.02729</td><td>0.0</td><td>7.07</td><td>0</td><td>0.469</td><td>7.185</td><td>61.1</td><td>4.9671</td><td>2</td><td>242</td></tr><tr><th>4</th><td>0.03237</td><td>0.0</td><td>2.18</td><td>0</td><td>0.458</td><td>6.998</td><td>45.8</td><td>6.0622</td><td>3</td><td>222</td></tr><tr><th>5</th><td>0.06905</td><td>0.0</td><td>2.18</td><td>0</td><td>0.458</td><td>7.147</td><td>54.2</td><td>6.0622</td><td>3</td><td>222</td></tr><tr><th>6</th><td>0.02985</td><td>0.0</td><td>2.18</td><td>0</td><td>0.458</td><td>6.43</td><td>58.7</td><td>6.0622</td><td>3</td><td>222</td></tr><tr><th>7</th><td>0.08829</td><td>12.5</td><td>7.87</td><td>0</td><td>0.524</td><td>6.012</td><td>66.6</td><td>5.5605</td><td>5</td><td>311</td></tr><tr><th>8</th><td>0.14455</td><td>12.5</td><td>7.87</td><td>0</td><td>0.524</td><td>6.172</td><td>96.1</td><td>5.9505</td><td>5</td><td>311</td></tr><tr><th>9</th><td>0.21124</td><td>12.5</td><td>7.87</td><td>0</td><td>0.524</td><td>5.631</td><td>100.0</td><td>6.0821</td><td>5</td><td>311</td></tr><tr><th>10</th><td>0.17004</td><td>12.5</td><td>7.87</td><td>0</td><td>0.524</td><td>6.004</td><td>85.9</td><td>6.5921</td><td>5</td><td>311</td></tr></tbody></table>"
      ],
      "text/latex": [
       "\\begin{tabular}{r|ccccccccccc}\n",
       "\t& Crim & Zn & Indus & Chas & NOx & Rm & Age & Dis & Rad & Tax & \\\\\n",
       "\t\\hline\n",
       "\t& Float64 & Float64 & Float64 & Int64 & Float64 & Float64 & Float64 & Float64 & Int64 & Int64 & \\\\\n",
       "\t\\hline\n",
       "\t1 & 0.00632 & 18.0 & 2.31 & 0 & 0.538 & 6.575 & 65.2 & 4.09 & 1 & 296 & $\\dots$ \\\\\n",
       "\t2 & 0.02731 & 0.0 & 7.07 & 0 & 0.469 & 6.421 & 78.9 & 4.9671 & 2 & 242 & $\\dots$ \\\\\n",
       "\t3 & 0.02729 & 0.0 & 7.07 & 0 & 0.469 & 7.185 & 61.1 & 4.9671 & 2 & 242 & $\\dots$ \\\\\n",
       "\t4 & 0.03237 & 0.0 & 2.18 & 0 & 0.458 & 6.998 & 45.8 & 6.0622 & 3 & 222 & $\\dots$ \\\\\n",
       "\t5 & 0.06905 & 0.0 & 2.18 & 0 & 0.458 & 7.147 & 54.2 & 6.0622 & 3 & 222 & $\\dots$ \\\\\n",
       "\t6 & 0.02985 & 0.0 & 2.18 & 0 & 0.458 & 6.43 & 58.7 & 6.0622 & 3 & 222 & $\\dots$ \\\\\n",
       "\t7 & 0.08829 & 12.5 & 7.87 & 0 & 0.524 & 6.012 & 66.6 & 5.5605 & 5 & 311 & $\\dots$ \\\\\n",
       "\t8 & 0.14455 & 12.5 & 7.87 & 0 & 0.524 & 6.172 & 96.1 & 5.9505 & 5 & 311 & $\\dots$ \\\\\n",
       "\t9 & 0.21124 & 12.5 & 7.87 & 0 & 0.524 & 5.631 & 100.0 & 6.0821 & 5 & 311 & $\\dots$ \\\\\n",
       "\t10 & 0.17004 & 12.5 & 7.87 & 0 & 0.524 & 6.004 & 85.9 & 6.5921 & 5 & 311 & $\\dots$ \\\\\n",
       "\\end{tabular}\n"
      ],
      "text/plain": [
       "10×14 DataFrame. Omitted printing of 7 columns\n",
       "│ Row │ Crim    │ Zn      │ Indus   │ Chas  │ NOx     │ Rm      │ Age     │\n",
       "│     │ \u001b[90mFloat64\u001b[39m │ \u001b[90mFloat64\u001b[39m │ \u001b[90mFloat64\u001b[39m │ \u001b[90mInt64\u001b[39m │ \u001b[90mFloat64\u001b[39m │ \u001b[90mFloat64\u001b[39m │ \u001b[90mFloat64\u001b[39m │\n",
       "├─────┼─────────┼─────────┼─────────┼───────┼─────────┼─────────┼─────────┤\n",
       "│ 1   │ 0.00632 │ 18.0    │ 2.31    │ 0     │ 0.538   │ 6.575   │ 65.2    │\n",
       "│ 2   │ 0.02731 │ 0.0     │ 7.07    │ 0     │ 0.469   │ 6.421   │ 78.9    │\n",
       "│ 3   │ 0.02729 │ 0.0     │ 7.07    │ 0     │ 0.469   │ 7.185   │ 61.1    │\n",
       "│ 4   │ 0.03237 │ 0.0     │ 2.18    │ 0     │ 0.458   │ 6.998   │ 45.8    │\n",
       "│ 5   │ 0.06905 │ 0.0     │ 2.18    │ 0     │ 0.458   │ 7.147   │ 54.2    │\n",
       "│ 6   │ 0.02985 │ 0.0     │ 2.18    │ 0     │ 0.458   │ 6.43    │ 58.7    │\n",
       "│ 7   │ 0.08829 │ 12.5    │ 7.87    │ 0     │ 0.524   │ 6.012   │ 66.6    │\n",
       "│ 8   │ 0.14455 │ 12.5    │ 7.87    │ 0     │ 0.524   │ 6.172   │ 96.1    │\n",
       "│ 9   │ 0.21124 │ 12.5    │ 7.87    │ 0     │ 0.524   │ 5.631   │ 100.0   │\n",
       "│ 10  │ 0.17004 │ 12.5    │ 7.87    │ 0     │ 0.524   │ 6.004   │ 85.9    │"
      ]
     },
     "execution_count": 5,
     "metadata": {},
     "output_type": "execute_result"
    }
   ],
   "source": [
    "boston = dataset(\"MASS\", \"Boston\")\n",
    "first(boston, 10)"
   ]
  },
  {
   "cell_type": "code",
   "execution_count": 6,
   "metadata": {},
   "outputs": [
    {
     "data": {
      "text/plain": [
       "\"506×14 DataFrame\""
      ]
     },
     "execution_count": 6,
     "metadata": {},
     "output_type": "execute_result"
    }
   ],
   "source": [
    "summary(boston)"
   ]
  },
  {
   "cell_type": "code",
   "execution_count": 7,
   "metadata": {},
   "outputs": [
    {
     "data": {
      "text/html": [
       "<table class=\"data-frame\"><thead><tr><th></th><th>variable</th><th>mean</th><th>min</th><th>median</th><th>max</th><th>nunique</th><th>nmissing</th><th>eltype</th></tr><tr><th></th><th>Symbol</th><th>Float64</th><th>Real</th><th>Float64</th><th>Real</th><th>Nothing</th><th>Nothing</th><th>DataType</th></tr></thead><tbody><p>14 rows × 8 columns</p><tr><th>1</th><td>Crim</td><td>3.61352</td><td>0.00632</td><td>0.25651</td><td>88.9762</td><td></td><td></td><td>Float64</td></tr><tr><th>2</th><td>Zn</td><td>11.3636</td><td>0.0</td><td>0.0</td><td>100.0</td><td></td><td></td><td>Float64</td></tr><tr><th>3</th><td>Indus</td><td>11.1368</td><td>0.46</td><td>9.69</td><td>27.74</td><td></td><td></td><td>Float64</td></tr><tr><th>4</th><td>Chas</td><td>0.06917</td><td>0</td><td>0.0</td><td>1</td><td></td><td></td><td>Int64</td></tr><tr><th>5</th><td>NOx</td><td>0.554695</td><td>0.385</td><td>0.538</td><td>0.871</td><td></td><td></td><td>Float64</td></tr><tr><th>6</th><td>Rm</td><td>6.28463</td><td>3.561</td><td>6.2085</td><td>8.78</td><td></td><td></td><td>Float64</td></tr><tr><th>7</th><td>Age</td><td>68.5749</td><td>2.9</td><td>77.5</td><td>100.0</td><td></td><td></td><td>Float64</td></tr><tr><th>8</th><td>Dis</td><td>3.79504</td><td>1.1296</td><td>3.20745</td><td>12.1265</td><td></td><td></td><td>Float64</td></tr><tr><th>9</th><td>Rad</td><td>9.54941</td><td>1</td><td>5.0</td><td>24</td><td></td><td></td><td>Int64</td></tr><tr><th>10</th><td>Tax</td><td>408.237</td><td>187</td><td>330.0</td><td>711</td><td></td><td></td><td>Int64</td></tr><tr><th>11</th><td>PTRatio</td><td>18.4555</td><td>12.6</td><td>19.05</td><td>22.0</td><td></td><td></td><td>Float64</td></tr><tr><th>12</th><td>Black</td><td>356.674</td><td>0.32</td><td>391.44</td><td>396.9</td><td></td><td></td><td>Float64</td></tr><tr><th>13</th><td>LStat</td><td>12.6531</td><td>1.73</td><td>11.36</td><td>37.97</td><td></td><td></td><td>Float64</td></tr><tr><th>14</th><td>MedV</td><td>22.5328</td><td>5.0</td><td>21.2</td><td>50.0</td><td></td><td></td><td>Float64</td></tr></tbody></table>"
      ],
      "text/latex": [
       "\\begin{tabular}{r|cccccccc}\n",
       "\t& variable & mean & min & median & max & nunique & nmissing & eltype\\\\\n",
       "\t\\hline\n",
       "\t& Symbol & Float64 & Real & Float64 & Real & Nothing & Nothing & DataType\\\\\n",
       "\t\\hline\n",
       "\t1 & Crim & 3.61352 & 0.00632 & 0.25651 & 88.9762 &  &  & Float64 \\\\\n",
       "\t2 & Zn & 11.3636 & 0.0 & 0.0 & 100.0 &  &  & Float64 \\\\\n",
       "\t3 & Indus & 11.1368 & 0.46 & 9.69 & 27.74 &  &  & Float64 \\\\\n",
       "\t4 & Chas & 0.06917 & 0 & 0.0 & 1 &  &  & Int64 \\\\\n",
       "\t5 & NOx & 0.554695 & 0.385 & 0.538 & 0.871 &  &  & Float64 \\\\\n",
       "\t6 & Rm & 6.28463 & 3.561 & 6.2085 & 8.78 &  &  & Float64 \\\\\n",
       "\t7 & Age & 68.5749 & 2.9 & 77.5 & 100.0 &  &  & Float64 \\\\\n",
       "\t8 & Dis & 3.79504 & 1.1296 & 3.20745 & 12.1265 &  &  & Float64 \\\\\n",
       "\t9 & Rad & 9.54941 & 1 & 5.0 & 24 &  &  & Int64 \\\\\n",
       "\t10 & Tax & 408.237 & 187 & 330.0 & 711 &  &  & Int64 \\\\\n",
       "\t11 & PTRatio & 18.4555 & 12.6 & 19.05 & 22.0 &  &  & Float64 \\\\\n",
       "\t12 & Black & 356.674 & 0.32 & 391.44 & 396.9 &  &  & Float64 \\\\\n",
       "\t13 & LStat & 12.6531 & 1.73 & 11.36 & 37.97 &  &  & Float64 \\\\\n",
       "\t14 & MedV & 22.5328 & 5.0 & 21.2 & 50.0 &  &  & Float64 \\\\\n",
       "\\end{tabular}\n"
      ],
      "text/plain": [
       "14×8 DataFrame. Omitted printing of 1 columns\n",
       "│ Row │ variable │ mean     │ min     │ median  │ max     │ nunique │ nmissing │\n",
       "│     │ \u001b[90mSymbol\u001b[39m   │ \u001b[90mFloat64\u001b[39m  │ \u001b[90mReal\u001b[39m    │ \u001b[90mFloat64\u001b[39m │ \u001b[90mReal\u001b[39m    │ \u001b[90mNothing\u001b[39m │ \u001b[90mNothing\u001b[39m  │\n",
       "├─────┼──────────┼──────────┼─────────┼─────────┼─────────┼─────────┼──────────┤\n",
       "│ 1   │ Crim     │ 3.61352  │ 0.00632 │ 0.25651 │ 88.9762 │         │          │\n",
       "│ 2   │ Zn       │ 11.3636  │ 0.0     │ 0.0     │ 100.0   │         │          │\n",
       "│ 3   │ Indus    │ 11.1368  │ 0.46    │ 9.69    │ 27.74   │         │          │\n",
       "│ 4   │ Chas     │ 0.06917  │ 0       │ 0.0     │ 1       │         │          │\n",
       "│ 5   │ NOx      │ 0.554695 │ 0.385   │ 0.538   │ 0.871   │         │          │\n",
       "│ 6   │ Rm       │ 6.28463  │ 3.561   │ 6.2085  │ 8.78    │         │          │\n",
       "│ 7   │ Age      │ 68.5749  │ 2.9     │ 77.5    │ 100.0   │         │          │\n",
       "│ 8   │ Dis      │ 3.79504  │ 1.1296  │ 3.20745 │ 12.1265 │         │          │\n",
       "│ 9   │ Rad      │ 9.54941  │ 1       │ 5.0     │ 24      │         │          │\n",
       "│ 10  │ Tax      │ 408.237  │ 187     │ 330.0   │ 711     │         │          │\n",
       "│ 11  │ PTRatio  │ 18.4555  │ 12.6    │ 19.05   │ 22.0    │         │          │\n",
       "│ 12  │ Black    │ 356.674  │ 0.32    │ 391.44  │ 396.9   │         │          │\n",
       "│ 13  │ LStat    │ 12.6531  │ 1.73    │ 11.36   │ 37.97   │         │          │\n",
       "│ 14  │ MedV     │ 22.5328  │ 5.0     │ 21.2    │ 50.0    │         │          │"
      ]
     },
     "execution_count": 7,
     "metadata": {},
     "output_type": "execute_result"
    }
   ],
   "source": [
    "# Check for missing values\n",
    "describe(boston)"
   ]
  },
  {
   "cell_type": "code",
   "execution_count": 8,
   "metadata": {},
   "outputs": [],
   "source": [
    "using LinearAlgebra"
   ]
  },
  {
   "cell_type": "code",
   "execution_count": 9,
   "metadata": {},
   "outputs": [
    {
     "data": {
      "text/plain": [
       "14×14 UpperTriangular{Float64,Array{Float64,2}}:\n",
       " 1.0  -0.200469   0.406583  -0.0558916  …  -0.385064    0.455621   -0.388305\n",
       "  ⋅    1.0       -0.533828  -0.0426967      0.17552    -0.412995    0.360445\n",
       "  ⋅     ⋅         1.0        0.062938      -0.356977    0.6038     -0.483725\n",
       "  ⋅     ⋅          ⋅         1.0            0.0487885  -0.0539293   0.17526 \n",
       "  ⋅     ⋅          ⋅          ⋅            -0.380051    0.590879   -0.427321\n",
       "  ⋅     ⋅          ⋅          ⋅         …   0.128069   -0.613808    0.69536 \n",
       "  ⋅     ⋅          ⋅          ⋅            -0.273534    0.602339   -0.376955\n",
       "  ⋅     ⋅          ⋅          ⋅             0.291512   -0.496996    0.249929\n",
       "  ⋅     ⋅          ⋅          ⋅            -0.444413    0.488676   -0.381626\n",
       "  ⋅     ⋅          ⋅          ⋅            -0.441808    0.543993   -0.468536\n",
       "  ⋅     ⋅          ⋅          ⋅         …  -0.177383    0.374044   -0.507787\n",
       "  ⋅     ⋅          ⋅          ⋅             1.0        -0.366087    0.333461\n",
       "  ⋅     ⋅          ⋅          ⋅              ⋅          1.0        -0.737663\n",
       "  ⋅     ⋅          ⋅          ⋅              ⋅           ⋅          1.0     "
      ]
     },
     "execution_count": 9,
     "metadata": {},
     "output_type": "execute_result"
    }
   ],
   "source": [
    "function correlation_matrix(df::DataFrame)::Array{Float64,2}\n",
    "    reshape([cor(df[:, name1], df[:, name2]) \n",
    "         for name1 in names(df) \n",
    "             for name2 in names(df)],\n",
    "        ncol(df), :)\n",
    "end\n",
    "\n",
    "boston_corr_mat = correlation_matrix(boston);\n",
    "UpperTriangular(boston_corr_mat)"
   ]
  },
  {
   "cell_type": "code",
   "execution_count": 10,
   "metadata": {},
   "outputs": [
    {
     "data": {
      "text/plain": [
       "3-element Array{Int64,1}:\n",
       "  6\n",
       " 11\n",
       " 13"
      ]
     },
     "execution_count": 10,
     "metadata": {},
     "output_type": "execute_result"
    }
   ],
   "source": [
    "hight_corr_ind = (boston_corr_mat[1:end-1, end] .> 0.5) .| (boston_corr_mat[1:end-1, end] .< -0.5) |> findall"
   ]
  },
  {
   "cell_type": "code",
   "execution_count": 11,
   "metadata": {},
   "outputs": [
    {
     "data": {
      "text/plain": [
       "3-element Array{String,1}:\n",
       " \"Rm\"     \n",
       " \"PTRatio\"\n",
       " \"LStat\"  "
      ]
     },
     "execution_count": 11,
     "metadata": {},
     "output_type": "execute_result"
    }
   ],
   "source": [
    "names(boston)[hight_corr_ind]"
   ]
  },
  {
   "cell_type": "markdown",
   "metadata": {},
   "source": [
    "### train, test split"
   ]
  },
  {
   "cell_type": "code",
   "execution_count": 13,
   "metadata": {},
   "outputs": [],
   "source": [
    "index = MLDataUtils.shuffleobs(collect(1:nrow(boston)));\n",
    "train_index, test_index = MLDataUtils.splitobs(index);\n",
    "train, test = boston[train_index, :], boston[test_index, :];"
   ]
  },
  {
   "cell_type": "code",
   "execution_count": 14,
   "metadata": {},
   "outputs": [
    {
     "data": {
      "text/plain": [
       "StatsModels.TableRegressionModel{LinearModel{GLM.LmResp{Array{Float64,1}},GLM.DensePredChol{Float64,Cholesky{Float64,Array{Float64,2}}}},Array{Float64,2}}\n",
       "\n",
       "MedV ~ 1 + Rm + PTRatio + LStat\n",
       "\n",
       "Coefficients:\n",
       "──────────────────────────────────────────────────────────────────────────\n",
       "                 Coef.  Std. Error       t  Pr(>|t|)  Lower 95%  Upper 95%\n",
       "──────────────────────────────────────────────────────────────────────────\n",
       "(Intercept)  16.6724     4.41607      3.78    0.0002   7.98707   25.3578  \n",
       "Rm            5.09679    0.479694    10.63    <1e-22   4.15334    6.04023 \n",
       "PTRatio      -1.04461    0.132475    -7.89    <1e-13  -1.30516   -0.784065\n",
       "LStat        -0.557403   0.0490047  -11.37    <1e-24  -0.653784  -0.461022\n",
       "──────────────────────────────────────────────────────────────────────────"
      ]
     },
     "execution_count": 14,
     "metadata": {},
     "output_type": "execute_result"
    }
   ],
   "source": [
    "used_formula = @formula(MedV ~ Rm + PTRatio + LStat)\n",
    "model = GLM.lm(used_formula, train)"
   ]
  },
  {
   "cell_type": "code",
   "execution_count": 15,
   "metadata": {},
   "outputs": [
    {
     "name": "stdout",
     "output_type": "stream",
     "text": [
      "R² = 0.718519182513585\n",
      "RMSE = 5.7915151432873815\n"
     ]
    }
   ],
   "source": [
    "rmse(y, y_hat) = sqrt(mean((y-y_hat).^2))\n",
    "y_hat = predict(model, test)\n",
    "println(\"R\\u00B2 = $(GLM.r2(model))\")\n",
    "println(\"RMSE = $(rmse(test.MedV, y_hat))\")"
   ]
  },
  {
   "cell_type": "markdown",
   "metadata": {},
   "source": [
    "### another train set"
   ]
  },
  {
   "cell_type": "code",
   "execution_count": 16,
   "metadata": {},
   "outputs": [],
   "source": [
    "index = MLDataUtils.shuffleobs(collect(1:nrow(boston)));\n",
    "train_index, test_index = MLDataUtils.splitobs(index);\n",
    "train, test = boston[train_index, :], boston[test_index, :];"
   ]
  },
  {
   "cell_type": "code",
   "execution_count": 17,
   "metadata": {},
   "outputs": [
    {
     "data": {
      "text/plain": [
       "StatsModels.TableRegressionModel{LinearModel{GLM.LmResp{Array{Float64,1}},GLM.DensePredChol{Float64,Cholesky{Float64,Array{Float64,2}}}},Array{Float64,2}}\n",
       "\n",
       "MedV ~ 1 + Rm + PTRatio + LStat\n",
       "\n",
       "Coefficients:\n",
       "──────────────────────────────────────────────────────────────────────────\n",
       "                 Coef.  Std. Error       t  Pr(>|t|)  Lower 95%  Upper 95%\n",
       "──────────────────────────────────────────────────────────────────────────\n",
       "(Intercept)  19.4623     4.81474      4.04    <1e-4    9.9929    28.9318  \n",
       "Rm            4.49607    0.517118     8.69    <1e-15   3.47902    5.51312 \n",
       "PTRatio      -0.95839    0.143904    -6.66    <1e-9   -1.24142   -0.675364\n",
       "LStat        -0.568342   0.0507401  -11.20    <1e-24  -0.668135  -0.468548\n",
       "──────────────────────────────────────────────────────────────────────────"
      ]
     },
     "execution_count": 17,
     "metadata": {},
     "output_type": "execute_result"
    }
   ],
   "source": [
    "used_formula = @formula(MedV ~ Rm + PTRatio + LStat)\n",
    "model = GLM.lm(used_formula, train)"
   ]
  },
  {
   "cell_type": "code",
   "execution_count": 18,
   "metadata": {},
   "outputs": [
    {
     "name": "stdout",
     "output_type": "stream",
     "text": [
      "R² = 0.6748776766130652\n",
      "RMSE = 4.975325350451077\n"
     ]
    }
   ],
   "source": [
    "rmse(y, y_hat) = sqrt(mean((y-y_hat).^2))\n",
    "y_hat = predict(model, test)\n",
    "println(\"R\\u00B2 = $(GLM.r2(model))\")\n",
    "println(\"RMSE = $(rmse(test.MedV, y_hat))\")"
   ]
  },
  {
   "cell_type": "markdown",
   "metadata": {},
   "source": [
    "### prediction"
   ]
  },
  {
   "cell_type": "code",
   "execution_count": 21,
   "metadata": {},
   "outputs": [
    {
     "data": {
      "text/html": [
       "<table class=\"data-frame\"><thead><tr><th></th><th>Rm</th><th>PTRatio</th><th>LStat</th></tr><tr><th></th><th>Float64</th><th>Float64</th><th>Float64</th></tr></thead><tbody><p>3 rows × 3 columns</p><tr><th>1</th><td>5.3</td><td>18.5</td><td>12.6</td></tr><tr><th>2</th><td>4.2</td><td>17.6</td><td>14.1</td></tr><tr><th>3</th><td>6.7</td><td>19.3</td><td>13.2</td></tr></tbody></table>"
      ],
      "text/latex": [
       "\\begin{tabular}{r|ccc}\n",
       "\t& Rm & PTRatio & LStat\\\\\n",
       "\t\\hline\n",
       "\t& Float64 & Float64 & Float64\\\\\n",
       "\t\\hline\n",
       "\t1 & 5.3 & 18.5 & 12.6 \\\\\n",
       "\t2 & 4.2 & 17.6 & 14.1 \\\\\n",
       "\t3 & 6.7 & 19.3 & 13.2 \\\\\n",
       "\\end{tabular}\n"
      ],
      "text/plain": [
       "3×3 DataFrame\n",
       "│ Row │ Rm      │ PTRatio │ LStat   │\n",
       "│     │ \u001b[90mFloat64\u001b[39m │ \u001b[90mFloat64\u001b[39m │ \u001b[90mFloat64\u001b[39m │\n",
       "├─────┼─────────┼─────────┼─────────┤\n",
       "│ 1   │ 5.3     │ 18.5    │ 12.6    │\n",
       "│ 2   │ 4.2     │ 17.6    │ 14.1    │\n",
       "│ 3   │ 6.7     │ 19.3    │ 13.2    │"
      ]
     },
     "execution_count": 21,
     "metadata": {},
     "output_type": "execute_result"
    }
   ],
   "source": [
    "new_X = DataFrame(Rm=[5.3, 4.2, 6.7], PTRatio =[18.5, 17.6, 19.3], LStat=[12.6,14.1,13.2])"
   ]
  },
  {
   "cell_type": "code",
   "execution_count": 22,
   "metadata": {},
   "outputs": [
    {
     "data": {
      "text/plain": [
       "3-element Array{Union{Missing, Float64},1}:\n",
       " 18.400229324817715\n",
       " 13.464586010160488\n",
       " 23.58701613221472 "
      ]
     },
     "execution_count": 22,
     "metadata": {},
     "output_type": "execute_result"
    }
   ],
   "source": [
    "predict(model, new_X)"
   ]
  },
  {
   "cell_type": "code",
   "execution_count": 23,
   "metadata": {},
   "outputs": [
    {
     "data": {
      "text/plain": [
       "0.6748776766130652"
      ]
     },
     "execution_count": 23,
     "metadata": {},
     "output_type": "execute_result"
    }
   ],
   "source": [
    "GLM.r2(model)"
   ]
  },
  {
   "cell_type": "code",
   "execution_count": 24,
   "metadata": {},
   "outputs": [
    {
     "data": {
      "text/plain": [
       "0.6720909138411773"
      ]
     },
     "execution_count": 24,
     "metadata": {},
     "output_type": "execute_result"
    }
   ],
   "source": [
    "GLM.adjr2(model)"
   ]
  },
  {
   "cell_type": "code",
   "execution_count": null,
   "metadata": {},
   "outputs": [],
   "source": []
  }
 ],
 "metadata": {
  "kernelspec": {
   "display_name": "Julia 1.2.0",
   "language": "julia",
   "name": "julia-1.2"
  },
  "language_info": {
   "file_extension": ".jl",
   "mimetype": "application/julia",
   "name": "julia",
   "version": "1.2.0"
  }
 },
 "nbformat": 4,
 "nbformat_minor": 4
}
